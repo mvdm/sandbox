{
 "cells": [
  {
   "cell_type": "markdown",
   "metadata": {},
   "source": [
    "# introduction\n",
    "\n",
    "To support adaptive behavior, activity in the brain must correspond in some way to relevant sensory events and planned movements, combine many sources of information into multimodal percepts, and recall traces of past events to inform predictions about the future. In other words, neural activity must somehow encode relevant quantities. For instance, it can be demonstrated behaviorally that many animals use estimates of their location and head direction to navigate towards a goal. Where, and how, are these quantities represented in the brain? What are the neural circuits that can compute and update these signals? How do place and direction estimates contribute to which way to go?\n",
    "\n",
    "This information processing view of the brain has been extremely influential, as highlighted by the enduring appeal of Hubel and Wiesel's demonstrations that single cells in macaque V1 respond to bars of light not only within a particular region of visual space, but also with a specific orientation. Such cells are said to be tuned for orientation (of the bar) and a typical tuning curve would therefore look like this:\n",
    "\n",
    "![Tuning curve](./images/hubel_wiesel_tc.jpg)"
   ]
  },
  {
   "cell_type": "markdown",
   "metadata": {},
   "source": [
    "# setup\n",
    "Set up your MATLAB environment to use the [vandermeerlab codebase](www.github.com/mvdm/vandermeerlab), and specify the location of the data folder used for this tutorial (R042-2014-08-18, from [van der Meer et al. (2017)](http://onlinelibrary.wiley.com/doi/10.1002/hipo.22714/full), see [here]() for download instructions):"
   ]
  },
  {
   "cell_type": "code",
   "execution_count": 21,
   "metadata": {},
   "outputs": [
    {
     "name": "stdout",
     "output_type": "stream",
     "text": [
      "Warning: Function plot has the same name as a MATLAB builtin. We suggest you rename the function to avoid a potential name conflict.\n",
      "> In path (line 109)\n",
      "  In addpath (line 88)\n"
     ]
    },
    {
     "name": "stderr",
     "output_type": "stream",
     "text": []
    }
   ],
   "source": [
    "restoredefaultpath; clear classes; % start with a clean slate\n",
    "\n",
    "SET_GitHub_root = 'D:\\My_Documents\\GitHub'; % replace this with the location of your local GitHub root folder\n",
    "SET_data_fd = 'D:\\data\\R042\\R042-2013-08-18'; % replace this with the location of your local data folder\n",
    "\n",
    "addpath(genpath(cat(2,SET_GitHub_root,'\\vandermeerlab\\code-matlab\\shared')));"
   ]
  },
  {
   "cell_type": "markdown",
   "metadata": {},
   "source": [
    "Next, we load the spike and position data:"
   ]
  },
  {
   "cell_type": "code",
   "execution_count": 22,
   "metadata": {},
   "outputs": [
    {
     "name": "stdout",
     "output_type": "stream",
     "text": [
      "LoadSpikes: WARNING: loading questionable cells\n",
      "LoadSpikes: Loading 107 files...\n",
      "LoadPos.m: 100.00% of samples tracked.\n"
     ]
    },
    {
     "name": "stderr",
     "output_type": "stream",
     "text": []
    }
   ],
   "source": [
    "cd(SET_data_fd);\n",
    " \n",
    "please = []; please.load_questionable_cells = 1;\n",
    "S = LoadSpikes(please);\n",
    " \n",
    "pos = LoadPos([]);"
   ]
  }
 ],
 "metadata": {
  "kernelspec": {
   "display_name": "MATLAB",
   "language": "matlab",
   "name": "imatlab"
  },
  "language_info": {
   "codemirror_mode": "octave",
   "file_extension": ".m",
   "mimetype": "text/x-matlab",
   "name": "matlab",
   "nbconvert_exporter": "imatlab._exporter.MatlabExporter",
   "pygments_lexer": "matlab",
   "version": "9.2.0.556344 (R2017a)"
  }
 },
 "nbformat": 4,
 "nbformat_minor": 2
}
